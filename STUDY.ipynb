{
 "cells": [
  {
   "cell_type": "code",
   "execution_count": 7,
   "metadata": {},
   "outputs": [],
   "source": [
    "import pandas as pd\n",
    "pd.options.display.max_rows = 1000"
   ]
  },
  {
   "cell_type": "code",
   "execution_count": 4,
   "metadata": {},
   "outputs": [],
   "source": [
    "columns = ['RECOMMENDATION', 'comments', 'CONFIDENCE', 'Layer 1', 'Layer 1 N', 'Layer 2', 'Layer 2 N', 'Layer 3',\n",
    "       'Layer 3 N']\n",
    "reviews = pd.read_csv('Test_Reviews.csv', usecols=columns)"
   ]
  },
  {
   "cell_type": "code",
   "execution_count": 8,
   "metadata": {},
   "outputs": [
    {
     "data": {
      "text/html": [
       "<div>\n",
       "<style scoped>\n",
       "    .dataframe tbody tr th:only-of-type {\n",
       "        vertical-align: middle;\n",
       "    }\n",
       "\n",
       "    .dataframe tbody tr th {\n",
       "        vertical-align: top;\n",
       "    }\n",
       "\n",
       "    .dataframe thead th {\n",
       "        text-align: right;\n",
       "    }\n",
       "</style>\n",
       "<table border=\"1\" class=\"dataframe\">\n",
       "  <thead>\n",
       "    <tr style=\"text-align: right;\">\n",
       "      <th></th>\n",
       "      <th>RECOMMENDATION</th>\n",
       "      <th>comments</th>\n",
       "      <th>CONFIDENCE</th>\n",
       "      <th>Layer 1</th>\n",
       "      <th>Layer 1 N</th>\n",
       "      <th>Layer 2</th>\n",
       "      <th>Layer 2 N</th>\n",
       "      <th>Layer 3</th>\n",
       "      <th>Layer 3 N</th>\n",
       "    </tr>\n",
       "  </thead>\n",
       "  <tbody>\n",
       "    <tr>\n",
       "      <th>0</th>\n",
       "      <td>7</td>\n",
       "      <td>\"Summary: \\nThe authors present a simple varia...</td>\n",
       "      <td>4</td>\n",
       "      <td>16.587</td>\n",
       "      <td>5.481</td>\n",
       "      <td>142.202</td>\n",
       "      <td>6.059</td>\n",
       "      <td>0.044</td>\n",
       "      <td>0.044</td>\n",
       "    </tr>\n",
       "    <tr>\n",
       "      <th>1</th>\n",
       "      <td>4</td>\n",
       "      <td>\"The paper entitled 'Siamese Survival Analysis...</td>\n",
       "      <td>5</td>\n",
       "      <td>1.280</td>\n",
       "      <td>1.332</td>\n",
       "      <td>9.568</td>\n",
       "      <td>1.309</td>\n",
       "      <td>-0.340</td>\n",
       "      <td>-0.340</td>\n",
       "    </tr>\n",
       "    <tr>\n",
       "      <th>2</th>\n",
       "      <td>3</td>\n",
       "      <td>\"In this paper, the authors define a simulated...</td>\n",
       "      <td>3</td>\n",
       "      <td>11.172</td>\n",
       "      <td>4.013</td>\n",
       "      <td>160.306</td>\n",
       "      <td>6.707</td>\n",
       "      <td>-0.672</td>\n",
       "      <td>-0.672</td>\n",
       "    </tr>\n",
       "    <tr>\n",
       "      <th>3</th>\n",
       "      <td>7</td>\n",
       "      <td>\"Summary:\\n The paper presents an unsupervised...</td>\n",
       "      <td>3</td>\n",
       "      <td>28.766</td>\n",
       "      <td>8.781</td>\n",
       "      <td>328.435</td>\n",
       "      <td>12.728</td>\n",
       "      <td>-0.933</td>\n",
       "      <td>-0.933</td>\n",
       "    </tr>\n",
       "    <tr>\n",
       "      <th>4</th>\n",
       "      <td>7</td>\n",
       "      <td>\"The paper introduces a new memory mechanism s...</td>\n",
       "      <td>4</td>\n",
       "      <td>3.718</td>\n",
       "      <td>1.993</td>\n",
       "      <td>42.942</td>\n",
       "      <td>2.504</td>\n",
       "      <td>-0.455</td>\n",
       "      <td>-0.455</td>\n",
       "    </tr>\n",
       "  </tbody>\n",
       "</table>\n",
       "</div>"
      ],
      "text/plain": [
       "   RECOMMENDATION                                           comments  \\\n",
       "0               7  \"Summary: \\nThe authors present a simple varia...   \n",
       "1               4  \"The paper entitled 'Siamese Survival Analysis...   \n",
       "2               3  \"In this paper, the authors define a simulated...   \n",
       "3               7  \"Summary:\\n The paper presents an unsupervised...   \n",
       "4               7  \"The paper introduces a new memory mechanism s...   \n",
       "\n",
       "   CONFIDENCE  Layer 1  Layer 1 N  Layer 2  Layer 2 N  Layer 3  Layer 3 N  \n",
       "0           4   16.587      5.481  142.202      6.059    0.044      0.044  \n",
       "1           5    1.280      1.332    9.568      1.309   -0.340     -0.340  \n",
       "2           3   11.172      4.013  160.306      6.707   -0.672     -0.672  \n",
       "3           3   28.766      8.781  328.435     12.728   -0.933     -0.933  \n",
       "4           4    3.718      1.993   42.942      2.504   -0.455     -0.455  "
      ]
     },
     "execution_count": 8,
     "metadata": {},
     "output_type": "execute_result"
    }
   ],
   "source": [
    "reviews.head()"
   ]
  }
 ],
 "metadata": {
  "kernelspec": {
   "display_name": "rajeev3",
   "language": "python",
   "name": "rajeev3"
  },
  "language_info": {
   "codemirror_mode": {
    "name": "ipython",
    "version": 3
   },
   "file_extension": ".py",
   "mimetype": "text/x-python",
   "name": "python",
   "nbconvert_exporter": "python",
   "pygments_lexer": "ipython3",
   "version": "3.7.9"
  }
 },
 "nbformat": 4,
 "nbformat_minor": 4
}
